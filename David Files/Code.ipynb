{
 "cells": [
  {
   "cell_type": "code",
   "execution_count": 1,
   "id": "4f55d8d2-f6b3-4723-a814-885952172201",
   "metadata": {
    "tags": []
   },
   "outputs": [],
   "source": [
    "##############################################################################\n",
    "# PROJECT ADD & AI\n",
    "##############################################################################"
   ]
  },
  {
   "cell_type": "code",
   "execution_count": 2,
   "id": "04cde35d-ecb1-45ea-9c43-1ddc63839806",
   "metadata": {
    "tags": []
   },
   "outputs": [],
   "source": [
    "# System imports\n",
    "import glob\n",
    "import os\n",
    "import matplotlib.pyplot as plt\n",
    "import numpy as np\n",
    "import datetime\n",
    "from time import process_time\n",
    "\n",
    "# Extra library imports\n",
    "from PIL import Image\n",
    "from scipy.optimize import minimize\n",
    "import scipy.ndimage as ndi\n",
    "import pandas as pd\n",
    "import numpy as np"
   ]
  },
  {
   "cell_type": "code",
   "execution_count": 3,
   "id": "f88f0031-da5b-4668-a344-73f5fcc8ba82",
   "metadata": {},
   "outputs": [],
   "source": [
    "def calculate_symmetry(impath):\n",
    "    im_arr=np.array(Image.open(impath)) #load image\n",
    "    sx, sy, nb_channels = im_arr.shape #compute image size\n",
    "\n",
    "    # Split the image into left and right halves\n",
    "    mid_index = sy//2\n",
    "    left_half = im_arr[:, :mid_index]\n",
    "    right_half = im_arr[:, mid_index:]\n",
    "    right_half = np.fliplr(right_half) \n",
    "\n",
    "    # Calculate the difference and symmetry index\n",
    "    difference = np.abs(left_half - right_half)\n",
    "    symmetry_score = np.sum(difference)\n",
    "    total_pixels = np.product(left_half.shape)\n",
    "    symmetry_index = symmetry_score / total_pixels\n",
    "\n",
    "    return symmetry_index"
   ]
  },
  {
   "cell_type": "code",
   "execution_count": 4,
   "id": "a6f351b3-37c0-4077-82e0-33f494d60d22",
   "metadata": {
    "tags": []
   },
   "outputs": [],
   "source": [
    "def process_images(directory_path):\n",
    "    data = []\n",
    "    for image_path in glob.glob(os.path.join(directory_path, '*.JPG')):\n",
    "        symmetry_index = calculate_symmetry(image_path)\n",
    "        image_index = int(os.path.basename(image_path).split('.')[0])\n",
    "        data.append({'Image Index': image_index, 'Symmetry Index': symmetry_index})\n",
    "        \n",
    "    #Create the dataframe with the image indexes and the corresponding symmetry indexes\n",
    "    df = pd.DataFrame(data)\n",
    "    df.set_index('Image Index', inplace=True)\n",
    "    df.sort_index(inplace=True)\n",
    "    return df"
   ]
  },
  {
   "cell_type": "code",
   "execution_count": 5,
   "id": "cb9369f6-529f-45d1-9c55-af699fb83d23",
   "metadata": {
    "tags": []
   },
   "outputs": [],
   "source": [
    "df=process_images(\"C:/Users/david/Downloads/ADD/Projet ADD/Images\")"
   ]
  },
  {
   "cell_type": "code",
   "execution_count": 6,
   "id": "7125100c-07da-48be-a480-e82c4d70d910",
   "metadata": {
    "tags": []
   },
   "outputs": [
    {
     "data": {
      "text/html": [
       "<div>\n",
       "<style scoped>\n",
       "    .dataframe tbody tr th:only-of-type {\n",
       "        vertical-align: middle;\n",
       "    }\n",
       "\n",
       "    .dataframe tbody tr th {\n",
       "        vertical-align: top;\n",
       "    }\n",
       "\n",
       "    .dataframe thead th {\n",
       "        text-align: right;\n",
       "    }\n",
       "</style>\n",
       "<table border=\"1\" class=\"dataframe\">\n",
       "  <thead>\n",
       "    <tr style=\"text-align: right;\">\n",
       "      <th></th>\n",
       "      <th>Symmetry Index</th>\n",
       "    </tr>\n",
       "    <tr>\n",
       "      <th>Image Index</th>\n",
       "      <th></th>\n",
       "    </tr>\n",
       "  </thead>\n",
       "  <tbody>\n",
       "    <tr>\n",
       "      <th>1</th>\n",
       "      <td>19.361784</td>\n",
       "    </tr>\n",
       "    <tr>\n",
       "      <th>2</th>\n",
       "      <td>15.496146</td>\n",
       "    </tr>\n",
       "    <tr>\n",
       "      <th>3</th>\n",
       "      <td>32.311818</td>\n",
       "    </tr>\n",
       "    <tr>\n",
       "      <th>4</th>\n",
       "      <td>27.137560</td>\n",
       "    </tr>\n",
       "    <tr>\n",
       "      <th>5</th>\n",
       "      <td>2.517949</td>\n",
       "    </tr>\n",
       "    <tr>\n",
       "      <th>...</th>\n",
       "      <td>...</td>\n",
       "    </tr>\n",
       "    <tr>\n",
       "      <th>246</th>\n",
       "      <td>9.529423</td>\n",
       "    </tr>\n",
       "    <tr>\n",
       "      <th>247</th>\n",
       "      <td>32.297882</td>\n",
       "    </tr>\n",
       "    <tr>\n",
       "      <th>248</th>\n",
       "      <td>26.031079</td>\n",
       "    </tr>\n",
       "    <tr>\n",
       "      <th>249</th>\n",
       "      <td>76.909211</td>\n",
       "    </tr>\n",
       "    <tr>\n",
       "      <th>250</th>\n",
       "      <td>109.634891</td>\n",
       "    </tr>\n",
       "  </tbody>\n",
       "</table>\n",
       "<p>250 rows × 1 columns</p>\n",
       "</div>"
      ],
      "text/plain": [
       "             Symmetry Index\n",
       "Image Index                \n",
       "1                 19.361784\n",
       "2                 15.496146\n",
       "3                 32.311818\n",
       "4                 27.137560\n",
       "5                  2.517949\n",
       "...                     ...\n",
       "246                9.529423\n",
       "247               32.297882\n",
       "248               26.031079\n",
       "249               76.909211\n",
       "250              109.634891\n",
       "\n",
       "[250 rows x 1 columns]"
      ]
     },
     "execution_count": 6,
     "metadata": {},
     "output_type": "execute_result"
    }
   ],
   "source": [
    "df"
   ]
  },
  {
   "cell_type": "code",
   "execution_count": 7,
   "id": "1a24d8e1-7d60-4175-8088-2d8eb70e6b71",
   "metadata": {
    "tags": []
   },
   "outputs": [
    {
     "data": {
      "text/html": [
       "<div>\n",
       "<style scoped>\n",
       "    .dataframe tbody tr th:only-of-type {\n",
       "        vertical-align: middle;\n",
       "    }\n",
       "\n",
       "    .dataframe tbody tr th {\n",
       "        vertical-align: top;\n",
       "    }\n",
       "\n",
       "    .dataframe thead th {\n",
       "        text-align: right;\n",
       "    }\n",
       "</style>\n",
       "<table border=\"1\" class=\"dataframe\">\n",
       "  <thead>\n",
       "    <tr style=\"text-align: right;\">\n",
       "      <th></th>\n",
       "      <th>Symmetry Index</th>\n",
       "    </tr>\n",
       "  </thead>\n",
       "  <tbody>\n",
       "    <tr>\n",
       "      <th>count</th>\n",
       "      <td>250.000000</td>\n",
       "    </tr>\n",
       "    <tr>\n",
       "      <th>mean</th>\n",
       "      <td>53.647897</td>\n",
       "    </tr>\n",
       "    <tr>\n",
       "      <th>std</th>\n",
       "      <td>43.875592</td>\n",
       "    </tr>\n",
       "    <tr>\n",
       "      <th>min</th>\n",
       "      <td>0.117742</td>\n",
       "    </tr>\n",
       "    <tr>\n",
       "      <th>25%</th>\n",
       "      <td>14.835245</td>\n",
       "    </tr>\n",
       "    <tr>\n",
       "      <th>50%</th>\n",
       "      <td>32.108942</td>\n",
       "    </tr>\n",
       "    <tr>\n",
       "      <th>75%</th>\n",
       "      <td>102.157908</td>\n",
       "    </tr>\n",
       "    <tr>\n",
       "      <th>max</th>\n",
       "      <td>152.455379</td>\n",
       "    </tr>\n",
       "  </tbody>\n",
       "</table>\n",
       "</div>"
      ],
      "text/plain": [
       "       Symmetry Index\n",
       "count      250.000000\n",
       "mean        53.647897\n",
       "std         43.875592\n",
       "min          0.117742\n",
       "25%         14.835245\n",
       "50%         32.108942\n",
       "75%        102.157908\n",
       "max        152.455379"
      ]
     },
     "execution_count": 7,
     "metadata": {},
     "output_type": "execute_result"
    }
   ],
   "source": [
    "df.describe()"
   ]
  }
 ],
 "metadata": {
  "kernelspec": {
   "display_name": "Python 3 (ipykernel)",
   "language": "python",
   "name": "python3"
  },
  "language_info": {
   "codemirror_mode": {
    "name": "ipython",
    "version": 3
   },
   "file_extension": ".py",
   "mimetype": "text/x-python",
   "name": "python",
   "nbconvert_exporter": "python",
   "pygments_lexer": "ipython3",
   "version": "3.11.5"
  }
 },
 "nbformat": 4,
 "nbformat_minor": 5
}
