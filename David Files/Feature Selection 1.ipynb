{
 "cells": [
  {
   "cell_type": "markdown",
   "id": "bbe5e4ce-87a0-4510-b955-0a876a5a2c32",
   "metadata": {
    "tags": []
   },
   "source": [
    "______________________________________________________________\n",
    "# DATA ANALYSIS & AI/OPTIMIZATION PROJECT - Features Selection\n",
    "\n",
    "______________________________________________________________"
   ]
  },
  {
   "cell_type": "code",
   "execution_count": 2,
   "id": "04cde35d-ecb1-45ea-9c43-1ddc63839806",
   "metadata": {
    "tags": []
   },
   "outputs": [
    {
     "name": "stdout",
     "output_type": "stream",
     "text": [
      "Requirement already satisfied: opencv-python-headless in c:\\users\\david\\anaconda3\\lib\\site-packages (4.9.0.80)\n",
      "Requirement already satisfied: numpy>=1.21.2 in c:\\users\\david\\anaconda3\\lib\\site-packages (from opencv-python-headless) (1.24.3)\n",
      "Requirement already satisfied: joblib in c:\\users\\david\\anaconda3\\lib\\site-packages (1.2.0)\n"
     ]
    }
   ],
   "source": [
    "# System imports\n",
    "import glob\n",
    "import os\n",
    "import matplotlib.pyplot as plt\n",
    "import numpy as np\n",
    "import datetime\n",
    "import scipy.ndimage as ndi\n",
    "import pandas as pd\n",
    "import cv2\n",
    "\n",
    "!pip install opencv-python-headless\n",
    "!pip install joblib\n",
    "\n",
    "from skimage import io, measure\n",
    "from sklearn.cluster import KMeans\n",
    "from time import process_time\n",
    "from PIL import Image, ImageOps\n",
    "from scipy.optimize import minimize\n",
    "from scipy.ndimage import rotate\n",
    "from sklearn.preprocessing import StandardScaler\n",
    "from sklearn.decomposition import PCA"
   ]
  },
  {
   "cell_type": "code",
   "execution_count": 3,
   "id": "0ebb99e7-8ae0-42bc-8606-60af02b5f7b3",
   "metadata": {
    "tags": []
   },
   "outputs": [],
   "source": [
    "directory_path1=\"./Images - without 154\"\n",
    "images_paths = glob.glob(os.path.join(directory_path1, '*.tif'))\n",
    "directory_path2=\"./train/masks\"\n",
    "mask_paths = glob.glob(os.path.join(directory_path2, '*.tif'))\n",
    "ds1 = pd.read_excel(\"C:/Users/david/Downloads/ADD/Projet ADD/ds1.xlsx\", sheet_name='Feuil1', usecols=['ID', 'Symmetry Index'], index_col=0)\n",
    "ds2 = pd.read_excel(\"C:/Users/david/Downloads/ADD/Projet ADD/ds2.xlsx\", sheet_name='Tabelle1', usecols=['ID', 'Symmetry Index','Aspect Ratio'], index_col=0)\n",
    "ds3 = pd.read_excel(\"C:/Users/david/Downloads/ADD/Projet ADD/ds3.xlsx\", sheet_name='Tabelle1', usecols=['ID', 'Symmetry Index','Aspect Ratio','Pixel Ratio'], index_col=0)"
   ]
  },
  {
   "cell_type": "markdown",
   "id": "e7287ec4-2525-423a-a907-7924d586659e",
   "metadata": {
    "slideshow": {
     "slide_type": "subslide"
    },
    "tags": []
   },
   "source": [
    "# 1) Symmetry Index"
   ]
  },
  {
   "cell_type": "markdown",
   "id": "85c1a46a-e695-4b7c-8615-b479925748a7",
   "metadata": {},
   "source": [
    "In this first part, we create a code that computes the symmetry indexes of every masks. To do so, we first write a couple of functions useful for what's to come. We then create a dataframe by using all those previous functions and we verify the returned dataframe composed of all the mask indexes and corresponding symmetry indexes."
   ]
  },
  {
   "cell_type": "markdown",
   "id": "cb568ee5-dcd2-4014-b826-a3b0f3df8640",
   "metadata": {
    "tags": []
   },
   "source": [
    "## 1.1 Defining functions"
   ]
  },
  {
   "cell_type": "markdown",
   "id": "a5e89933-2967-4c29-bc0a-03bc83fd2b79",
   "metadata": {},
   "source": [
    "- load_mask : used to load the mask images as arrays. It takes a give mask path and returns a array of it."
   ]
  },
  {
   "cell_type": "code",
   "execution_count": 8,
   "id": "a9d1aa0d-47a3-4ded-bfa5-a2c02dad2ab4",
   "metadata": {
    "tags": []
   },
   "outputs": [],
   "source": [
    "def load_mask(mask_path):\n",
    "    mask = Image.open(mask_path).convert('L') #first we convert the mask to grayscale\n",
    "    mask = np.array(mask) #then we create an array for the mask\n",
    "    return mask // 255 #finally we return the mask"
   ]
  },
  {
   "cell_type": "markdown",
   "id": "d4fb4232-03fc-433e-98e3-06df61fc32d1",
   "metadata": {
    "tags": []
   },
   "source": [
    "- find_centroid : this function is used to find the centroid of each mask, this is useful in order to find the symmetry axis. It takes a given mask (as an array) and returns the centroid coordinates."
   ]
  },
  {
   "cell_type": "code",
   "execution_count": 10,
   "id": "4270fef1-51e9-4a22-b47e-8daf0ac22b7c",
   "metadata": {
    "tags": []
   },
   "outputs": [],
   "source": [
    "def find_centroid(mask):\n",
    "    # Find the coordinates of non-zero (white) pixels\n",
    "    y, x = np.nonzero(mask)\n",
    "    # Calculate the mean coordinates (centroid)\n",
    "    centroid_x = np.mean(x)\n",
    "    centroid_y = np.mean(y)\n",
    "    return int(centroid_x), int(centroid_y)"
   ]
  },
  {
   "cell_type": "markdown",
   "id": "df759d2b-1457-4ad3-ab42-c9a7acfeebd6",
   "metadata": {},
   "source": [
    "- rotate_image : this function is used to rotate the image in order to find the best symmetry index. It takes an image (here a mask), an angle and centroid coordinates and returns a new image."
   ]
  },
  {
   "cell_type": "code",
   "execution_count": 12,
   "id": "994bdca0-f725-4a0d-844a-f7fc72715b6d",
   "metadata": {
    "tags": []
   },
   "outputs": [],
   "source": [
    "def rotate_image(image, theta_degree, xc, yc):\n",
    "    \"\"\" Rotation of angle theta_degree around center (xc, yc) of a binary image \"\"\"\n",
    "    # Convert the angle into radian\n",
    "    theta = np.radians(theta_degree)\n",
    "    # Image size\n",
    "    s1, s2 = image.shape\n",
    "    # Get all the pixels in the input array\n",
    "    y, x = np.indices((s1, s2))\n",
    "    # Compute the coordinates obtained after rotation\n",
    "    xr = np.cos(theta) * (x - xc) - np.sin(theta) * (y - yc) + xc\n",
    "    yr = np.sin(theta) * (x - xc) + np.cos(theta) * (y - yc) + yc\n",
    "    # Initialize the rotation array (binary image)\n",
    "    rot_arr = np.zeros_like(image)\n",
    "    # Round coordinates and filter valid ones\n",
    "    xr = np.round(xr).astype(int)\n",
    "    yr = np.round(yr).astype(int)\n",
    "    valid_mask = (xr >= 0) & (xr < s2) & (yr >= 0) & (yr < s1)\n",
    "    rot_arr[yr[valid_mask], xr[valid_mask]] = image[y[valid_mask], x[valid_mask]]\n",
    "    return rot_arr"
   ]
  },
  {
   "cell_type": "markdown",
   "id": "44d31932-9084-4db7-97bf-ead5dec0fc7b",
   "metadata": {},
   "source": [
    "- caculate_symmetry_index : this is the key function here, it works by splitting the mask into 2 halfs (left and right) and flips the right halft horizontally in order to compare both halves and define a symmetry index based on the differences. It takes a mask and a centroid and returns an index."
   ]
  },
  {
   "cell_type": "code",
   "execution_count": 14,
   "id": "fa0133cc-c13e-4653-ad55-5f18f3dae1d2",
   "metadata": {
    "tags": []
   },
   "outputs": [],
   "source": [
    "def calculate_symmetry_index(mask, centroid_x):\n",
    "    # Split the mask into left and right halves at the centroid_x\n",
    "    left_half = mask[:, :centroid_x]\n",
    "    right_half = mask[:, centroid_x:]\n",
    "    \n",
    "    # If the halves have different widths, adjust the right half\n",
    "    if left_half.shape[1] > right_half.shape[1]:\n",
    "        left_half = left_half[:, :right_half.shape[1]]\n",
    "    elif right_half.shape[1] > left_half.shape[1]:\n",
    "        right_half = right_half[:, :left_half.shape[1]]\n",
    "\n",
    "    # Flip the right half horizontally\n",
    "    right_half = np.fliplr(right_half)\n",
    "    \n",
    "    # Calculate the absolute difference between the left and right halves\n",
    "    difference = np.abs(left_half - right_half)\n",
    "    \n",
    "    # Sum the differences to get total difference score\n",
    "    symmetry_score = np.sum(difference)\n",
    "    \n",
    "    # Normalize the score by the total number of pixels in the halves\n",
    "    total_pixels = np.product(left_half.shape)\n",
    "    symmetry_index = symmetry_score / total_pixels\n",
    "    \n",
    "    # Return the symmetry index where 1 means perfectly symmetrical\n",
    "    return 1 - symmetry_index"
   ]
  },
  {
   "cell_type": "markdown",
   "id": "502485ec-3f9c-4004-a63d-842689642a60",
   "metadata": {
    "tags": []
   },
   "source": [
    "- find_best_symmetry : this function takes a couple of previous functions. For a mask, it calculates its centroid and for a large number of angles (37), it rotates the image and calculates the symmetry index every time. It then finds the highest one. It takes a mask and returns its best symmetry."
   ]
  },
  {
   "cell_type": "code",
   "execution_count": 16,
   "id": "c6d44319-6bda-4e5d-9397-4402b21a8de5",
   "metadata": {
    "tags": []
   },
   "outputs": [],
   "source": [
    "def find_best_symmetry(mask):\n",
    "    centroid_x, centroid_y = find_centroid(mask)\n",
    "    best_symmetry_index = 0\n",
    "    best_angle = 0\n",
    "    \n",
    "    for angle in range(-90, 91, 5):  # Test angles from -90 to 90 degrees in 5-degree increments\n",
    "        rotated_mask = rotate_image(mask, angle, centroid_x, centroid_y)\n",
    "        symmetry_index = calculate_symmetry_index(rotated_mask, centroid_x)\n",
    "        if symmetry_index > best_symmetry_index:\n",
    "            best_symmetry_index = symmetry_index\n",
    "            best_angle = angle\n",
    "\n",
    "    return best_symmetry_index"
   ]
  },
  {
   "cell_type": "markdown",
   "id": "ffd87033-4dba-4204-8ca4-05fddec0c6d9",
   "metadata": {
    "tags": []
   },
   "source": [
    "## 1.2 Creating the proper dataframe"
   ]
  },
  {
   "cell_type": "markdown",
   "id": "059a7e43-9069-491b-af30-6fe031678234",
   "metadata": {},
   "source": [
    "We now execute a code that will load all the masks, find the best symmetry index every time and return the dataframe with all the mask indexes and the corresponding symmetry index."
   ]
  },
  {
   "cell_type": "code",
   "execution_count": 19,
   "id": "85d28ee5-16a0-439c-abcb-28349a6ca2ed",
   "metadata": {
    "tags": []
   },
   "outputs": [],
   "source": [
    "results = [] # Initialize a list for the values\n",
    "\n",
    "for mask_path in mask_paths: # For every mask\n",
    "    mask = load_mask(mask_path) # Load the mask\n",
    "    best_symmetry_index = find_best_symmetry(mask) # Find the best symmetry of the mask\n",
    "    image_index = int(os.path.basename(mask_path).split('_')[1].split('.')[0]) # Create a mask image based on the name\n",
    "    results.append({'Image Index': image_index, 'Symmetry Index': best_symmetry_index}) # Add the mask index and the best symmetry index\n",
    "\n",
    "df = pd.DataFrame(results) # Create the dataframe with all values\n",
    "df.set_index('Image Index', inplace=True) # Set the mask index as the index\n",
    "df.sort_index(inplace=True) # Sort the list"
   ]
  },
  {
   "cell_type": "code",
   "execution_count": 20,
   "id": "7224e130-9ccb-4fa1-9dc9-76ba4f021d0b",
   "metadata": {
    "tags": []
   },
   "outputs": [
    {
     "data": {
      "text/html": [
       "<div>\n",
       "<style scoped>\n",
       "    .dataframe tbody tr th:only-of-type {\n",
       "        vertical-align: middle;\n",
       "    }\n",
       "\n",
       "    .dataframe tbody tr th {\n",
       "        vertical-align: top;\n",
       "    }\n",
       "\n",
       "    .dataframe thead th {\n",
       "        text-align: right;\n",
       "    }\n",
       "</style>\n",
       "<table border=\"1\" class=\"dataframe\">\n",
       "  <thead>\n",
       "    <tr style=\"text-align: right;\">\n",
       "      <th></th>\n",
       "      <th>Symmetry Index</th>\n",
       "    </tr>\n",
       "    <tr>\n",
       "      <th>Image Index</th>\n",
       "      <th></th>\n",
       "    </tr>\n",
       "  </thead>\n",
       "  <tbody>\n",
       "    <tr>\n",
       "      <th>1</th>\n",
       "      <td>0.173222</td>\n",
       "    </tr>\n",
       "    <tr>\n",
       "      <th>2</th>\n",
       "      <td>0.196968</td>\n",
       "    </tr>\n",
       "    <tr>\n",
       "      <th>3</th>\n",
       "      <td>0.000000</td>\n",
       "    </tr>\n",
       "    <tr>\n",
       "      <th>4</th>\n",
       "      <td>0.000000</td>\n",
       "    </tr>\n",
       "    <tr>\n",
       "      <th>5</th>\n",
       "      <td>0.368057</td>\n",
       "    </tr>\n",
       "    <tr>\n",
       "      <th>...</th>\n",
       "      <td>...</td>\n",
       "    </tr>\n",
       "    <tr>\n",
       "      <th>246</th>\n",
       "      <td>0.000000</td>\n",
       "    </tr>\n",
       "    <tr>\n",
       "      <th>247</th>\n",
       "      <td>0.000000</td>\n",
       "    </tr>\n",
       "    <tr>\n",
       "      <th>248</th>\n",
       "      <td>0.412942</td>\n",
       "    </tr>\n",
       "    <tr>\n",
       "      <th>249</th>\n",
       "      <td>0.465518</td>\n",
       "    </tr>\n",
       "    <tr>\n",
       "      <th>250</th>\n",
       "      <td>0.000000</td>\n",
       "    </tr>\n",
       "  </tbody>\n",
       "</table>\n",
       "<p>249 rows × 1 columns</p>\n",
       "</div>"
      ],
      "text/plain": [
       "             Symmetry Index\n",
       "Image Index                \n",
       "1                  0.173222\n",
       "2                  0.196968\n",
       "3                  0.000000\n",
       "4                  0.000000\n",
       "5                  0.368057\n",
       "...                     ...\n",
       "246                0.000000\n",
       "247                0.000000\n",
       "248                0.412942\n",
       "249                0.465518\n",
       "250                0.000000\n",
       "\n",
       "[249 rows x 1 columns]"
      ]
     },
     "execution_count": 20,
     "metadata": {},
     "output_type": "execute_result"
    }
   ],
   "source": [
    "df"
   ]
  },
  {
   "cell_type": "markdown",
   "id": "2d48dcde-9182-4204-867c-2a771d5b0b29",
   "metadata": {},
   "source": [
    "We then take a look at the dataframe by describing it."
   ]
  },
  {
   "cell_type": "code",
   "execution_count": 22,
   "id": "fa2177f0-b916-4ac6-b33f-7327427206bc",
   "metadata": {},
   "outputs": [
    {
     "data": {
      "text/html": [
       "<div>\n",
       "<style scoped>\n",
       "    .dataframe tbody tr th:only-of-type {\n",
       "        vertical-align: middle;\n",
       "    }\n",
       "\n",
       "    .dataframe tbody tr th {\n",
       "        vertical-align: top;\n",
       "    }\n",
       "\n",
       "    .dataframe thead th {\n",
       "        text-align: right;\n",
       "    }\n",
       "</style>\n",
       "<table border=\"1\" class=\"dataframe\">\n",
       "  <thead>\n",
       "    <tr style=\"text-align: right;\">\n",
       "      <th></th>\n",
       "      <th>Symmetry Index</th>\n",
       "    </tr>\n",
       "  </thead>\n",
       "  <tbody>\n",
       "    <tr>\n",
       "      <th>count</th>\n",
       "      <td>249.000000</td>\n",
       "    </tr>\n",
       "    <tr>\n",
       "      <th>mean</th>\n",
       "      <td>0.091938</td>\n",
       "    </tr>\n",
       "    <tr>\n",
       "      <th>std</th>\n",
       "      <td>0.185804</td>\n",
       "    </tr>\n",
       "    <tr>\n",
       "      <th>min</th>\n",
       "      <td>0.000000</td>\n",
       "    </tr>\n",
       "    <tr>\n",
       "      <th>25%</th>\n",
       "      <td>0.000000</td>\n",
       "    </tr>\n",
       "    <tr>\n",
       "      <th>50%</th>\n",
       "      <td>0.000000</td>\n",
       "    </tr>\n",
       "    <tr>\n",
       "      <th>75%</th>\n",
       "      <td>0.073261</td>\n",
       "    </tr>\n",
       "    <tr>\n",
       "      <th>max</th>\n",
       "      <td>0.891982</td>\n",
       "    </tr>\n",
       "  </tbody>\n",
       "</table>\n",
       "</div>"
      ],
      "text/plain": [
       "       Symmetry Index\n",
       "count      249.000000\n",
       "mean         0.091938\n",
       "std          0.185804\n",
       "min          0.000000\n",
       "25%          0.000000\n",
       "50%          0.000000\n",
       "75%          0.073261\n",
       "max          0.891982"
      ]
     },
     "execution_count": 22,
     "metadata": {},
     "output_type": "execute_result"
    }
   ],
   "source": [
    "df.describe()"
   ]
  },
  {
   "cell_type": "markdown",
   "id": "6a02a2d0-6730-43e3-9118-a2684668ebf4",
   "metadata": {
    "tags": []
   },
   "source": [
    "We then look at the masks with the highest and lowest symmetry indexes in order to make sure our code works reasonably well."
   ]
  },
  {
   "cell_type": "code",
   "execution_count": 24,
   "id": "8f61666d-7dd7-4eb4-b903-d393cb229f0c",
   "metadata": {
    "tags": []
   },
   "outputs": [
    {
     "data": {
      "image/png": "[encoded data removed]",
      "text/plain": [
       "<Figure size 1000x500 with 2 Axes>"
      ]
     },
     "metadata": {},
     "output_type": "display_data"
    }
   ],
   "source": [
    "# Find the image index with the highest symmetry index\n",
    "max_sym_index = df['Symmetry Index'].idxmax()\n",
    "# Find the image index with the lowest symmetry index\n",
    "min_sym_index = df['Symmetry Index'].idxmin()\n",
    "\n",
    "# Display images with the highest and lowest ratio\n",
    "plt.figure(figsize=(10, 5))\n",
    "    \n",
    "# High ratio\n",
    "image_path_high = os.path.join(directory_path2, f'binary_{max_sym_index}.tif')\n",
    "image_high = Image.open(image_path_high)\n",
    "plt.subplot(1, 2, 1)\n",
    "plt.imshow(image_high, cmap='gray')\n",
    "plt.title(f'Highest symmetry index {max_sym_index}: {df.loc[max_sym_index, \"Symmetry Index\"]}')\n",
    "plt.axis('off')\n",
    "    \n",
    "# Low ratio\n",
    "image_path_low = os.path.join(directory_path2, f'binary_{min_sym_index}.tif')\n",
    "image_low = Image.open(image_path_low)\n",
    "plt.subplot(1, 2, 2)\n",
    "plt.imshow(image_low, cmap='gray')\n",
    "plt.title(f'Lowest symmetry index {min_sym_index}: {df.loc[min_sym_index, \"Symmetry Index\"]}')\n",
    "plt.axis('off')\n",
    "    \n",
    "plt.tight_layout()\n",
    "plt.show()"
   ]
  },
  {
   "cell_type": "markdown",
   "id": "9a9d2301-49fe-4c36-971c-4c6842e9fede",
   "metadata": {
    "tags": []
   },
   "source": [
    "# 2) Aspect ratio\n"
   ]
  },
  {
   "cell_type": "markdown",
   "id": "891ae8e0-9e55-462a-97ae-ef409c4b0fbc",
   "metadata": {},
   "source": [
    "Now that we've got the symmetry indexes of every mask, we will now calculate the aspect ratio of each mask. To do so, we first establish functions to use. We then create the proper dataframe and verify it."
   ]
  },
  {
   "cell_type": "markdown",
   "id": "af48ea5a-3f6c-4bf5-ba90-4261844b8f73",
   "metadata": {},
   "source": [
    "## 2.1 Defining functions"
   ]
  },
  {
   "cell_type": "markdown",
   "id": "31be601b-9899-4f28-b9d3-54e3095aa5db",
   "metadata": {},
   "source": [
    "- find_longest_line : used to find the longest continous line of white pixels in a mask. It takes a mask and returns the length, coordinates and axis of the longest line that crosses the bug"
   ]
  },
  {
   "cell_type": "code",
   "execution_count": 29,
   "id": "aa53be97-9203-4d58-8d8e-120a1ec64329",
   "metadata": {},
   "outputs": [],
   "source": [
    "def find_longest_line(mask):\n",
    "    centroid_x, centroid_y = find_centroid(mask)\n",
    "    max_length = 0\n",
    "    max_coords = None\n",
    "    max_axis = None\n",
    "    \n",
    "    for angle in range(-90, 91, 5):  # Test angles from -90 to 90 degrees in 5-degree increments\n",
    "        rotated_mask = rotate_image(mask, angle, centroid_x, centroid_y)\n",
    "        # Check horizontal lines\n",
    "        for y in range(mask.shape[0]):\n",
    "            row = mask[y, :]\n",
    "            non_zero_indices = np.where(row > 0)[0]\n",
    "            if len(non_zero_indices) > 0:\n",
    "                length = non_zero_indices[-1] - non_zero_indices[0] + 1\n",
    "                if length > max_length:\n",
    "                    max_length = length\n",
    "                    max_coords = ((y, non_zero_indices[0]), (y, non_zero_indices[-1]))\n",
    "                    max_axis = 'horizontal'\n",
    "\n",
    "        # Check vertical lines\n",
    "        for x in range(mask.shape[1]):\n",
    "            col = mask[:, x]\n",
    "            non_zero_indices = np.where(col > 0)[0]\n",
    "            if len(non_zero_indices) > 0:\n",
    "                length = non_zero_indices[-1] - non_zero_indices[0] + 1\n",
    "                if length > max_length:\n",
    "                    max_length = length\n",
    "                    max_coords = ((non_zero_indices[0], x), (non_zero_indices[-1], x))\n",
    "                    max_axis = 'vertical'\n",
    "    \n",
    "    return max_length, max_coords, max_axis"
   ]
  },
  {
   "cell_type": "markdown",
   "id": "ddd31366-84fd-4922-9c86-1dda62906469",
   "metadata": {},
   "source": [
    "- rotate_mask : this function is used to rotate the image in order to find the best symmetry index. It takes an image (here a mask), coordinates and an axis and returns the rotated mask. Its approach is different from the prievous rotate_image because of how it is implemented."
   ]
  },
  {
   "cell_type": "code",
   "execution_count": 31,
   "id": "6fbd90e5-8909-4839-9b24-e07402113ab3",
   "metadata": {},
   "outputs": [],
   "source": [
    "def rotate_mask(mask, coords, axis):\n",
    "    if axis == 'horizontal':\n",
    "        y1, x1 = coords[0]\n",
    "        y2, x2 = coords[1]\n",
    "        angle = np.degrees(np.arctan2(y2 - y1, x2 - x1))\n",
    "    else:\n",
    "        y1, x1 = coords[0]\n",
    "        y2, x2 = coords[1]\n",
    "        angle = np.degrees(np.arctan2(x2 - x1, y2 - y1))\n",
    "    \n",
    "    rotated_mask = rotate(mask, angle, reshape=True, order=0)\n",
    "    return rotated_mask"
   ]
  },
  {
   "cell_type": "markdown",
   "id": "7ad649bb-2b54-473c-b8ff-cbaa5de3f9e7",
   "metadata": {},
   "source": [
    "- find_orthogonal_line : this function finds the longest line orthogonal to a given line. It takes a mask, the coordinates of a line and an axis and returns the length of the longest orthogonal line."
   ]
  },
  {
   "cell_type": "code",
   "execution_count": 33,
   "id": "4dd11ddf-8578-44c8-ba4a-42d7a22441f5",
   "metadata": {},
   "outputs": [],
   "source": [
    "def find_orthogonal_longest_line(mask, longest_coords, axis):\n",
    "    rotated_mask = rotate_mask(mask, longest_coords, axis)\n",
    "    \n",
    "    if axis == 'horizontal':\n",
    "        orthogonal_axis = 'vertical'\n",
    "    else:\n",
    "        orthogonal_axis = 'horizontal'\n",
    "    \n",
    "    max_length = 0\n",
    "    max_coords = None\n",
    "    \n",
    "    # Check orthogonal lines in the rotated mask\n",
    "    if orthogonal_axis == 'vertical':\n",
    "        for x in range(rotated_mask.shape[1]):\n",
    "            col = rotated_mask[:, x]\n",
    "            non_zero_indices = np.where(col > 0)[0]\n",
    "            if len(non_zero_indices) > 0:\n",
    "                length = non_zero_indices[-1] - non_zero_indices[0] + 1\n",
    "                if length > max_length:\n",
    "                    max_length = length\n",
    "                    max_coords = ((non_zero_indices[0], x), (non_zero_indices[-1], x))\n",
    "    else:\n",
    "        for y in range(rotated_mask.shape[0]):\n",
    "            row = rotated_mask[y, :]\n",
    "            non_zero_indices = np.where(row > 0)[0]\n",
    "            if len(non_zero_indices) > 0:\n",
    "                length = non_zero_indices[-1] - non_zero_indices[0] + 1\n",
    "                if length > max_length:\n",
    "                    max_length = length\n",
    "                    max_coords = ((y, non_zero_indices[0]), (y, non_zero_indices[-1]))\n",
    "    \n",
    "    return max_length"
   ]
  },
  {
   "cell_type": "markdown",
   "id": "4f5a85c2-067e-49db-96fd-60776cdc476c",
   "metadata": {},
   "source": [
    "- calculate_line_ratios : this function takes the 2 longest orthogonal lines and returns the ratio of the smallest divided by the longest of the 2"
   ]
  },
  {
   "cell_type": "code",
   "execution_count": 35,
   "id": "33213d9d-3fa3-4c39-9871-f0a496652d0a",
   "metadata": {},
   "outputs": [],
   "source": [
    "def calculate_line_ratios(mask):\n",
    "    longest_length, longest_coords, axis = find_longest_line(mask)\n",
    "    orthogonal_length = find_orthogonal_longest_line(mask, longest_coords, axis)\n",
    "    \n",
    "    if longest_length == 0 or orthogonal_length == 0:\n",
    "        return np.nan \n",
    "    \n",
    "    return min(longest_length, orthogonal_length) / max(longest_length, orthogonal_length)"
   ]
  },
  {
   "cell_type": "markdown",
   "id": "d866cc47-0263-4233-add6-583a9d1f7471",
   "metadata": {},
   "source": [
    "## 2.2 Creating the proper dataframe"
   ]
  },
  {
   "cell_type": "markdown",
   "id": "9c2ca9df-3450-498c-abcf-82a190b6be76",
   "metadata": {
    "tags": []
   },
   "source": [
    "We now execute a code that will load all the masks, find the line ratio every time and return the dataframe with all the mask indexes and the corresponding line ratios."
   ]
  },
  {
   "cell_type": "code",
   "execution_count": 38,
   "id": "9a25855a-fa40-4107-90fe-a66b91fa0f6c",
   "metadata": {
    "tags": []
   },
   "outputs": [],
   "source": [
    "results = []\n",
    "mask_filenames = sorted([f for f in os.listdir(directory_path2) if f.endswith('.tif')], key=lambda x: int(x.split('_')[1].split('.')[0]))\n",
    "\n",
    "for mask_filename in mask_filenames:\n",
    "    mask_path = os.path.join(directory_path2, mask_filename)\n",
    "    mask = load_mask(mask_path)\n",
    "    if mask is not None:\n",
    "        line_ratio = calculate_line_ratios(mask)\n",
    "        image_index = int(os.path.basename(mask_path).split('_')[1].split('.')[0])\n",
    "        results.append({'Image Index': image_index, 'Line Ratio': line_ratio})\n",
    "    else:\n",
    "        print(f\"Mask not found or corrupt: {mask_path}\")\n",
    "        \n",
    "results_df = pd.DataFrame(results)\n",
    "results_df.set_index('Image Index', inplace=True)\n",
    "results_df.sort_index(inplace=True)\n",
    "\n",
    "df = df.merge(results_df, left_index=True, right_index=True, how='left')"
   ]
  },
  {
   "cell_type": "code",
   "execution_count": 39,
   "id": "89d1ddf1-a1d3-42ae-b08a-4ff106e3fac6",
   "metadata": {
    "tags": []
   },
   "outputs": [
    {
     "data": {
      "text/html": [
       "<div>\n",
       "<style scoped>\n",
       "    .dataframe tbody tr th:only-of-type {\n",
       "        vertical-align: middle;\n",
       "    }\n",
       "\n",
       "    .dataframe tbody tr th {\n",
       "        vertical-align: top;\n",
       "    }\n",
       "\n",
       "    .dataframe thead th {\n",
       "        text-align: right;\n",
       "    }\n",
       "</style>\n",
       "<table border=\"1\" class=\"dataframe\">\n",
       "  <thead>\n",
       "    <tr style=\"text-align: right;\">\n",
       "      <th></th>\n",
       "      <th>Symmetry Index</th>\n",
       "      <th>Line Ratio</th>\n",
       "    </tr>\n",
       "    <tr>\n",
       "      <th>Image Index</th>\n",
       "      <th></th>\n",
       "      <th></th>\n",
       "    </tr>\n",
       "  </thead>\n",
       "  <tbody>\n",
       "    <tr>\n",
       "      <th>1</th>\n",
       "      <td>0.173222</td>\n",
       "      <td>0.891304</td>\n",
       "    </tr>\n",
       "    <tr>\n",
       "      <th>2</th>\n",
       "      <td>0.196968</td>\n",
       "      <td>0.823529</td>\n",
       "    </tr>\n",
       "    <tr>\n",
       "      <th>3</th>\n",
       "      <td>0.000000</td>\n",
       "      <td>0.967742</td>\n",
       "    </tr>\n",
       "    <tr>\n",
       "      <th>4</th>\n",
       "      <td>0.000000</td>\n",
       "      <td>0.672840</td>\n",
       "    </tr>\n",
       "    <tr>\n",
       "      <th>5</th>\n",
       "      <td>0.368057</td>\n",
       "      <td>0.775140</td>\n",
       "    </tr>\n",
       "    <tr>\n",
       "      <th>...</th>\n",
       "      <td>...</td>\n",
       "      <td>...</td>\n",
       "    </tr>\n",
       "    <tr>\n",
       "      <th>246</th>\n",
       "      <td>0.000000</td>\n",
       "      <td>0.862712</td>\n",
       "    </tr>\n",
       "    <tr>\n",
       "      <th>247</th>\n",
       "      <td>0.000000</td>\n",
       "      <td>0.837349</td>\n",
       "    </tr>\n",
       "    <tr>\n",
       "      <th>248</th>\n",
       "      <td>0.412942</td>\n",
       "      <td>0.833581</td>\n",
       "    </tr>\n",
       "    <tr>\n",
       "      <th>249</th>\n",
       "      <td>0.465518</td>\n",
       "      <td>0.883312</td>\n",
       "    </tr>\n",
       "    <tr>\n",
       "      <th>250</th>\n",
       "      <td>0.000000</td>\n",
       "      <td>0.867470</td>\n",
       "    </tr>\n",
       "  </tbody>\n",
       "</table>\n",
       "<p>249 rows × 2 columns</p>\n",
       "</div>"
      ],
      "text/plain": [
       "             Symmetry Index  Line Ratio\n",
       "Image Index                            \n",
       "1                  0.173222    0.891304\n",
       "2                  0.196968    0.823529\n",
       "3                  0.000000    0.967742\n",
       "4                  0.000000    0.672840\n",
       "5                  0.368057    0.775140\n",
       "...                     ...         ...\n",
       "246                0.000000    0.862712\n",
       "247                0.000000    0.837349\n",
       "248                0.412942    0.833581\n",
       "249                0.465518    0.883312\n",
       "250                0.000000    0.867470\n",
       "\n",
       "[249 rows x 2 columns]"
      ]
     },
     "execution_count": 39,
     "metadata": {},
     "output_type": "execute_result"
    }
   ],
   "source": [
    "df"
   ]
  },
  {
   "cell_type": "markdown",
   "id": "e8b4b056-20bf-4405-bde6-6e28a6d98d2a",
   "metadata": {},
   "source": [
    "We then take a look at the dataframe by describing it."
   ]
  },
  {
   "cell_type": "code",
   "execution_count": 41,
   "id": "b6024187-8dec-47be-8f5f-aeb035869e26",
   "metadata": {
    "tags": []
   },
   "outputs": [
    {
     "data": {
      "text/html": [
       "<div>\n",
       "<style scoped>\n",
       "    .dataframe tbody tr th:only-of-type {\n",
       "        vertical-align: middle;\n",
       "    }\n",
       "\n",
       "    .dataframe tbody tr th {\n",
       "        vertical-align: top;\n",
       "    }\n",
       "\n",
       "    .dataframe thead th {\n",
       "        text-align: right;\n",
       "    }\n",
       "</style>\n",
       "<table border=\"1\" class=\"dataframe\">\n",
       "  <thead>\n",
       "    <tr style=\"text-align: right;\">\n",
       "      <th></th>\n",
       "      <th>Symmetry Index</th>\n",
       "      <th>Line Ratio</th>\n",
       "    </tr>\n",
       "  </thead>\n",
       "  <tbody>\n",
       "    <tr>\n",
       "      <th>count</th>\n",
       "      <td>249.000000</td>\n",
       "      <td>249.000000</td>\n",
       "    </tr>\n",
       "    <tr>\n",
       "      <th>mean</th>\n",
       "      <td>0.091938</td>\n",
       "      <td>0.807795</td>\n",
       "    </tr>\n",
       "    <tr>\n",
       "      <th>std</th>\n",
       "      <td>0.185804</td>\n",
       "      <td>0.132570</td>\n",
       "    </tr>\n",
       "    <tr>\n",
       "      <th>min</th>\n",
       "      <td>0.000000</td>\n",
       "      <td>0.319149</td>\n",
       "    </tr>\n",
       "    <tr>\n",
       "      <th>25%</th>\n",
       "      <td>0.000000</td>\n",
       "      <td>0.735174</td>\n",
       "    </tr>\n",
       "    <tr>\n",
       "      <th>50%</th>\n",
       "      <td>0.000000</td>\n",
       "      <td>0.831204</td>\n",
       "    </tr>\n",
       "    <tr>\n",
       "      <th>75%</th>\n",
       "      <td>0.073261</td>\n",
       "      <td>0.914474</td>\n",
       "    </tr>\n",
       "    <tr>\n",
       "      <th>max</th>\n",
       "      <td>0.891982</td>\n",
       "      <td>1.000000</td>\n",
       "    </tr>\n",
       "  </tbody>\n",
       "</table>\n",
       "</div>"
      ],
      "text/plain": [
       "       Symmetry Index  Line Ratio\n",
       "count      249.000000  249.000000\n",
       "mean         0.091938    0.807795\n",
       "std          0.185804    0.132570\n",
       "min          0.000000    0.319149\n",
       "25%          0.000000    0.735174\n",
       "50%          0.000000    0.831204\n",
       "75%          0.073261    0.914474\n",
       "max          0.891982    1.000000"
      ]
     },
     "execution_count": 41,
     "metadata": {},
     "output_type": "execute_result"
    }
   ],
   "source": [
    "df.describe()"
   ]
  },
  {
   "cell_type": "markdown",
   "id": "ca287564-8a4c-4808-ab3b-a230685d082f",
   "metadata": {},
   "source": [
    "We then look at the masks with the highest and lowest line ratios in order to make sure our code works reasonably well."
   ]
  },
  {
   "cell_type": "code",
   "execution_count": 43,
   "id": "7ef4b965-b00d-4771-b716-8dc165030de4",
   "metadata": {
    "tags": []
   },
   "outputs": [
    {
     "data": {
      "image/png": "[encoded data removed]",
      "text/plain": [
       "<Figure size 1000x500 with 2 Axes>"
      ]
     },
     "metadata": {},
     "output_type": "display_data"
    }
   ],
   "source": [
    "# Find the image index with the highest ratio\n",
    "max_ratio = df['Line Ratio'].idxmax()\n",
    "# Find the image index with the lowest ratio\n",
    "min_ratio = df['Line Ratio'].idxmin()\n",
    "\n",
    "# Display images with the highest and lowest ratio\n",
    "plt.figure(figsize=(10, 5))\n",
    "    \n",
    "# High ratio\n",
    "image_path_high = os.path.join(directory_path2, f'binary_{max_ratio}.tif')\n",
    "image_high = Image.open(image_path_high)\n",
    "plt.subplot(1, 2, 1)\n",
    "plt.imshow(image_high, cmap='gray')\n",
    "plt.title(f'Highest ratio {max_ratio}: {df.loc[max_ratio, \"Line Ratio\"]}')\n",
    "plt.axis('off')\n",
    "    \n",
    "# Low ratio\n",
    "image_path_low = os.path.join(directory_path2, f'binary_{min_ratio}.tif')\n",
    "image_low = Image.open(image_path_low)\n",
    "plt.subplot(1, 2, 2)\n",
    "plt.imshow(image_low, cmap='gray')\n",
    "plt.title(f'Lowest ratio {min_ratio}: {df.loc[min_ratio, \"Line Ratio\"]}')\n",
    "plt.axis('off')\n",
    "    \n",
    "plt.tight_layout()\n",
    "plt.show()"
   ]
  },
  {
   "cell_type": "markdown",
   "id": "5e75bcec-b3e6-48c4-aa92-8ec4507163af",
   "metadata": {
    "tags": []
   },
   "source": [
    "# 3) Pixel Ratio"
   ]
  },
  {
   "cell_type": "markdown",
   "id": "40382b68-5129-43be-80e9-8fafc2c79474",
   "metadata": {},
   "source": [
    "This code's goal is to display :\n",
    "- a list of the pixel ratios, ratios and symmetry indexes for every images indexes\n",
    "- a description of this list\n",
    "- the images with the highest and lowest pixel ratio"
   ]
  },
  {
   "cell_type": "markdown",
   "id": "22a97d08-d689-4fc8-bc70-77890ad0c69f",
   "metadata": {
    "tags": []
   },
   "source": [
    "### 3.1 Writing the functions to measure the number of pixels"
   ]
  },
  {
   "cell_type": "code",
   "execution_count": 47,
   "id": "f66c2419-5ab8-48bf-8ec6-bb4bb9c5297f",
   "metadata": {
    "tags": []
   },
   "outputs": [],
   "source": [
    "def measure_pixels(image_path):\n",
    "    image = Image.open(image_path)  \n",
    "    width, height = image.size\n",
    "    return width * height"
   ]
  },
  {
   "cell_type": "code",
   "execution_count": 48,
   "id": "b5e731f5-d543-42a0-8827-deadc2361a11",
   "metadata": {
    "tags": []
   },
   "outputs": [],
   "source": [
    "def measure_pixels_mask(image_path):\n",
    "    mask = Image.open(image_path).convert('L')\n",
    "    mask_array = np.array(mask)\n",
    "    return np.sum(mask_array == 255)"
   ]
  },
  {
   "cell_type": "markdown",
   "id": "0f2a4011-8121-43bb-aebf-40430c42508b",
   "metadata": {
    "tags": []
   },
   "source": [
    "### 3.2 Adding the pixel ratios to the dataframe"
   ]
  },
  {
   "cell_type": "code",
   "execution_count": 50,
   "id": "6879aab9-b1b6-4bd8-bab1-0a8f79892d4d",
   "metadata": {
    "tags": []
   },
   "outputs": [],
   "source": [
    "# Dictionaries to store pixel counts\n",
    "pixels_image = {}\n",
    "pixels_mask = {}\n",
    "\n",
    "# Collect pixel counts for each image\n",
    "for image_path in glob.glob(os.path.join(directory_path1, '*.JPG')):\n",
    "    num_pixels1 = measure_pixels(image_path)\n",
    "    image_index = int(os.path.basename(image_path).split('.')[0]) \n",
    "    pixels_image[image_index] = num_pixels1\n",
    "        \n",
    "# Collect pixel counts for each mask\n",
    "for image_path in glob.glob(os.path.join(directory_path2, '*.tif')):\n",
    "    num_pixels2 = measure_pixels_mask(image_path)\n",
    "    image_index = int(os.path.basename(image_path).split('_')[1].split('.')[0]) \n",
    "    pixels_mask[image_index] = num_pixels2\n",
    "\n",
    "# Create Pixel Ratio column\n",
    "df['Pixel Ratio'] = [pixels_mask[idx] / pixels_image[idx] if idx in pixels_image and idx in pixels_mask else None for idx in df.index]"
   ]
  },
  {
   "cell_type": "code",
   "execution_count": 51,
   "id": "7d268d2d-1ce1-4198-bdfe-555e9ca57935",
   "metadata": {},
   "outputs": [
    {
     "data": {
      "text/html": [
       "<div>\n",
       "<style scoped>\n",
       "    .dataframe tbody tr th:only-of-type {\n",
       "        vertical-align: middle;\n",
       "    }\n",
       "\n",
       "    .dataframe tbody tr th {\n",
       "        vertical-align: top;\n",
       "    }\n",
       "\n",
       "    .dataframe thead th {\n",
       "        text-align: right;\n",
       "    }\n",
       "</style>\n",
       "<table border=\"1\" class=\"dataframe\">\n",
       "  <thead>\n",
       "    <tr style=\"text-align: right;\">\n",
       "      <th></th>\n",
       "      <th>Symmetry Index</th>\n",
       "      <th>Line Ratio</th>\n",
       "      <th>Pixel Ratio</th>\n",
       "    </tr>\n",
       "    <tr>\n",
       "      <th>Image Index</th>\n",
       "      <th></th>\n",
       "      <th></th>\n",
       "      <th></th>\n",
       "    </tr>\n",
       "  </thead>\n",
       "  <tbody>\n",
       "    <tr>\n",
       "      <th>1</th>\n",
       "      <td>0.173222</td>\n",
       "      <td>0.891304</td>\n",
       "      <td>0.006951</td>\n",
       "    </tr>\n",
       "    <tr>\n",
       "      <th>2</th>\n",
       "      <td>0.196968</td>\n",
       "      <td>0.823529</td>\n",
       "      <td>0.008023</td>\n",
       "    </tr>\n",
       "    <tr>\n",
       "      <th>3</th>\n",
       "      <td>0.000000</td>\n",
       "      <td>0.967742</td>\n",
       "      <td>0.021430</td>\n",
       "    </tr>\n",
       "    <tr>\n",
       "      <th>4</th>\n",
       "      <td>0.000000</td>\n",
       "      <td>0.672840</td>\n",
       "      <td>0.012538</td>\n",
       "    </tr>\n",
       "    <tr>\n",
       "      <th>5</th>\n",
       "      <td>0.368057</td>\n",
       "      <td>0.775140</td>\n",
       "      <td>0.008745</td>\n",
       "    </tr>\n",
       "    <tr>\n",
       "      <th>...</th>\n",
       "      <td>...</td>\n",
       "      <td>...</td>\n",
       "      <td>...</td>\n",
       "    </tr>\n",
       "    <tr>\n",
       "      <th>246</th>\n",
       "      <td>0.000000</td>\n",
       "      <td>0.862712</td>\n",
       "      <td>0.006250</td>\n",
       "    </tr>\n",
       "    <tr>\n",
       "      <th>247</th>\n",
       "      <td>0.000000</td>\n",
       "      <td>0.837349</td>\n",
       "      <td>0.020050</td>\n",
       "    </tr>\n",
       "    <tr>\n",
       "      <th>248</th>\n",
       "      <td>0.412942</td>\n",
       "      <td>0.833581</td>\n",
       "      <td>0.007032</td>\n",
       "    </tr>\n",
       "    <tr>\n",
       "      <th>249</th>\n",
       "      <td>0.465518</td>\n",
       "      <td>0.883312</td>\n",
       "      <td>0.011959</td>\n",
       "    </tr>\n",
       "    <tr>\n",
       "      <th>250</th>\n",
       "      <td>0.000000</td>\n",
       "      <td>0.867470</td>\n",
       "      <td>0.023367</td>\n",
       "    </tr>\n",
       "  </tbody>\n",
       "</table>\n",
       "<p>249 rows × 3 columns</p>\n",
       "</div>"
      ],
      "text/plain": [
       "             Symmetry Index  Line Ratio  Pixel Ratio\n",
       "Image Index                                         \n",
       "1                  0.173222    0.891304     0.006951\n",
       "2                  0.196968    0.823529     0.008023\n",
       "3                  0.000000    0.967742     0.021430\n",
       "4                  0.000000    0.672840     0.012538\n",
       "5                  0.368057    0.775140     0.008745\n",
       "...                     ...         ...          ...\n",
       "246                0.000000    0.862712     0.006250\n",
       "247                0.000000    0.837349     0.020050\n",
       "248                0.412942    0.833581     0.007032\n",
       "249                0.465518    0.883312     0.011959\n",
       "250                0.000000    0.867470     0.023367\n",
       "\n",
       "[249 rows x 3 columns]"
      ]
     },
     "execution_count": 51,
     "metadata": {},
     "output_type": "execute_result"
    }
   ],
   "source": [
    "df"
   ]
  },
  {
   "cell_type": "code",
   "execution_count": 52,
   "id": "4c6d5a91-5fba-4f51-9eed-200c31f813b8",
   "metadata": {
    "tags": []
   },
   "outputs": [
    {
     "data": {
      "text/html": [
       "<div>\n",
       "<style scoped>\n",
       "    .dataframe tbody tr th:only-of-type {\n",
       "        vertical-align: middle;\n",
       "    }\n",
       "\n",
       "    .dataframe tbody tr th {\n",
       "        vertical-align: top;\n",
       "    }\n",
       "\n",
       "    .dataframe thead th {\n",
       "        text-align: right;\n",
       "    }\n",
       "</style>\n",
       "<table border=\"1\" class=\"dataframe\">\n",
       "  <thead>\n",
       "    <tr style=\"text-align: right;\">\n",
       "      <th></th>\n",
       "      <th>Symmetry Index</th>\n",
       "      <th>Line Ratio</th>\n",
       "      <th>Pixel Ratio</th>\n",
       "    </tr>\n",
       "  </thead>\n",
       "  <tbody>\n",
       "    <tr>\n",
       "      <th>count</th>\n",
       "      <td>249.000000</td>\n",
       "      <td>249.000000</td>\n",
       "      <td>249.000000</td>\n",
       "    </tr>\n",
       "    <tr>\n",
       "      <th>mean</th>\n",
       "      <td>0.091938</td>\n",
       "      <td>0.807795</td>\n",
       "      <td>0.022883</td>\n",
       "    </tr>\n",
       "    <tr>\n",
       "      <th>std</th>\n",
       "      <td>0.185804</td>\n",
       "      <td>0.132570</td>\n",
       "      <td>0.016881</td>\n",
       "    </tr>\n",
       "    <tr>\n",
       "      <th>min</th>\n",
       "      <td>0.000000</td>\n",
       "      <td>0.319149</td>\n",
       "      <td>0.003460</td>\n",
       "    </tr>\n",
       "    <tr>\n",
       "      <th>25%</th>\n",
       "      <td>0.000000</td>\n",
       "      <td>0.735174</td>\n",
       "      <td>0.013245</td>\n",
       "    </tr>\n",
       "    <tr>\n",
       "      <th>50%</th>\n",
       "      <td>0.000000</td>\n",
       "      <td>0.831204</td>\n",
       "      <td>0.020054</td>\n",
       "    </tr>\n",
       "    <tr>\n",
       "      <th>75%</th>\n",
       "      <td>0.073261</td>\n",
       "      <td>0.914474</td>\n",
       "      <td>0.028377</td>\n",
       "    </tr>\n",
       "    <tr>\n",
       "      <th>max</th>\n",
       "      <td>0.891982</td>\n",
       "      <td>1.000000</td>\n",
       "      <td>0.187458</td>\n",
       "    </tr>\n",
       "  </tbody>\n",
       "</table>\n",
       "</div>"
      ],
      "text/plain": [
       "       Symmetry Index  Line Ratio  Pixel Ratio\n",
       "count      249.000000  249.000000   249.000000\n",
       "mean         0.091938    0.807795     0.022883\n",
       "std          0.185804    0.132570     0.016881\n",
       "min          0.000000    0.319149     0.003460\n",
       "25%          0.000000    0.735174     0.013245\n",
       "50%          0.000000    0.831204     0.020054\n",
       "75%          0.073261    0.914474     0.028377\n",
       "max          0.891982    1.000000     0.187458"
      ]
     },
     "execution_count": 52,
     "metadata": {},
     "output_type": "execute_result"
    }
   ],
   "source": [
    "df.describe()"
   ]
  },
  {
   "cell_type": "markdown",
   "id": "233a3b0b-54d6-48eb-9b96-5d6cd05afafc",
   "metadata": {},
   "source": [
    "# 4) Bounding box"
   ]
  },
  {
   "cell_type": "code",
   "execution_count": 54,
   "id": "a6b61530-9aa6-41e7-b80c-a00e34ced493",
   "metadata": {
    "tags": []
   },
   "outputs": [],
   "source": [
    "def compute_bounding_box_ratio(mask_arr):\n",
    "    # Find the coordinates of the non-zero points (the bug)\n",
    "    y_indices, x_indices = np.nonzero(mask_arr)\n",
    "\n",
    "    # Compute the bounding box coordinates\n",
    "    min_x, max_x = np.min(x_indices), np.max(x_indices)\n",
    "    min_y, max_y = np.min(y_indices), np.max(y_indices)\n",
    "    \n",
    "    # Create the bounding box array\n",
    "    bounding_box = np.zeros_like(mask_arr)\n",
    "    bounding_box[min_y:max_y+1, min_x:max_x+1] = 1\n",
    "\n",
    "    # Calculate the proportion of the bug inside the bounding box\n",
    "    bug_area = np.sum(mask_arr)\n",
    "    bounding_box_area = np.sum(bounding_box)\n",
    "    ratio = bug_area / bounding_box_area\n",
    "\n",
    "    return ratio"
   ]
  },
  {
   "cell_type": "code",
   "execution_count": 55,
   "id": "da1ee4dd-84a4-417f-8c05-37994877b586",
   "metadata": {
    "tags": []
   },
   "outputs": [],
   "source": [
    "def find_optimal_rotation(mask_arr):\n",
    "    best_ratio = 0\n",
    "    for angle in range(-90, 90, 5): \n",
    "        rotated_mask = rotate_image(mask_arr, angle, xc=mask_arr.shape[1]//2, yc=mask_arr.shape[0]//2)\n",
    "        ratio = compute_bounding_box_ratio(rotated_mask)\n",
    "        if ratio > best_ratio:\n",
    "            best_ratio = ratio\n",
    "    return best_ratio"
   ]
  },
  {
   "cell_type": "code",
   "execution_count": 56,
   "id": "cd18c0b1-99f8-4f7f-a71b-c26049ca6e48",
   "metadata": {
    "tags": []
   },
   "outputs": [],
   "source": [
    "results = []\n",
    "\n",
    "# Sort mask filenames based on image index\n",
    "mask_filenames = sorted([f for f in os.listdir(directory_path2) if f.endswith('.tif')], key=lambda x: int(x.split('_')[1].split('.')[0]))\n",
    "\n",
    "# Iterate through each mask file\n",
    "for mask_filename in mask_filenames:\n",
    "    mask_path = os.path.join(directory_path2, mask_filename)\n",
    "    mask_arr = load_mask(mask_path)\n",
    "    bounding_box_proportion = compute_bounding_box_ratio(mask_arr)\n",
    "    image_index = int(mask_filename.split('_')[1].split('.')[0])\n",
    "    results.append({'Image Index': image_index, 'Bounding Box Proportion': bounding_box_proportion})\n",
    "\n",
    "results_df = pd.DataFrame(results)\n",
    "results_df.set_index('Image Index', inplace=True)\n",
    "results_df.sort_index(inplace=True)\n",
    "\n",
    "df = df.merge(results_df, left_index=True, right_index=True, how='left')"
   ]
  },
  {
   "cell_type": "code",
   "execution_count": 57,
   "id": "49303ae2-f3a6-4b2d-a7ab-2bbfac73ace2",
   "metadata": {},
   "outputs": [
    {
     "data": {
      "text/html": [
       "<div>\n",
       "<style scoped>\n",
       "    .dataframe tbody tr th:only-of-type {\n",
       "        vertical-align: middle;\n",
       "    }\n",
       "\n",
       "    .dataframe tbody tr th {\n",
       "        vertical-align: top;\n",
       "    }\n",
       "\n",
       "    .dataframe thead th {\n",
       "        text-align: right;\n",
       "    }\n",
       "</style>\n",
       "<table border=\"1\" class=\"dataframe\">\n",
       "  <thead>\n",
       "    <tr style=\"text-align: right;\">\n",
       "      <th></th>\n",
       "      <th>Symmetry Index</th>\n",
       "      <th>Line Ratio</th>\n",
       "      <th>Pixel Ratio</th>\n",
       "      <th>Bounding Box Proportion</th>\n",
       "    </tr>\n",
       "    <tr>\n",
       "      <th>Image Index</th>\n",
       "      <th></th>\n",
       "      <th></th>\n",
       "      <th></th>\n",
       "      <th></th>\n",
       "    </tr>\n",
       "  </thead>\n",
       "  <tbody>\n",
       "    <tr>\n",
       "      <th>1</th>\n",
       "      <td>0.173222</td>\n",
       "      <td>0.891304</td>\n",
       "      <td>0.006951</td>\n",
       "      <td>0.485305</td>\n",
       "    </tr>\n",
       "    <tr>\n",
       "      <th>2</th>\n",
       "      <td>0.196968</td>\n",
       "      <td>0.823529</td>\n",
       "      <td>0.008023</td>\n",
       "      <td>0.412341</td>\n",
       "    </tr>\n",
       "    <tr>\n",
       "      <th>3</th>\n",
       "      <td>0.000000</td>\n",
       "      <td>0.967742</td>\n",
       "      <td>0.021430</td>\n",
       "      <td>0.438176</td>\n",
       "    </tr>\n",
       "    <tr>\n",
       "      <th>4</th>\n",
       "      <td>0.000000</td>\n",
       "      <td>0.672840</td>\n",
       "      <td>0.012538</td>\n",
       "      <td>0.412787</td>\n",
       "    </tr>\n",
       "    <tr>\n",
       "      <th>5</th>\n",
       "      <td>0.368057</td>\n",
       "      <td>0.775140</td>\n",
       "      <td>0.008745</td>\n",
       "      <td>0.382750</td>\n",
       "    </tr>\n",
       "    <tr>\n",
       "      <th>...</th>\n",
       "      <td>...</td>\n",
       "      <td>...</td>\n",
       "      <td>...</td>\n",
       "      <td>...</td>\n",
       "    </tr>\n",
       "    <tr>\n",
       "      <th>246</th>\n",
       "      <td>0.000000</td>\n",
       "      <td>0.862712</td>\n",
       "      <td>0.006250</td>\n",
       "      <td>0.468131</td>\n",
       "    </tr>\n",
       "    <tr>\n",
       "      <th>247</th>\n",
       "      <td>0.000000</td>\n",
       "      <td>0.837349</td>\n",
       "      <td>0.020050</td>\n",
       "      <td>0.449497</td>\n",
       "    </tr>\n",
       "    <tr>\n",
       "      <th>248</th>\n",
       "      <td>0.412942</td>\n",
       "      <td>0.833581</td>\n",
       "      <td>0.007032</td>\n",
       "      <td>0.383151</td>\n",
       "    </tr>\n",
       "    <tr>\n",
       "      <th>249</th>\n",
       "      <td>0.465518</td>\n",
       "      <td>0.883312</td>\n",
       "      <td>0.011959</td>\n",
       "      <td>0.430235</td>\n",
       "    </tr>\n",
       "    <tr>\n",
       "      <th>250</th>\n",
       "      <td>0.000000</td>\n",
       "      <td>0.867470</td>\n",
       "      <td>0.023367</td>\n",
       "      <td>0.489498</td>\n",
       "    </tr>\n",
       "  </tbody>\n",
       "</table>\n",
       "<p>249 rows × 4 columns</p>\n",
       "</div>"
      ],
      "text/plain": [
       "             Symmetry Index  Line Ratio  Pixel Ratio  Bounding Box Proportion\n",
       "Image Index                                                                  \n",
       "1                  0.173222    0.891304     0.006951                 0.485305\n",
       "2                  0.196968    0.823529     0.008023                 0.412341\n",
       "3                  0.000000    0.967742     0.021430                 0.438176\n",
       "4                  0.000000    0.672840     0.012538                 0.412787\n",
       "5                  0.368057    0.775140     0.008745                 0.382750\n",
       "...                     ...         ...          ...                      ...\n",
       "246                0.000000    0.862712     0.006250                 0.468131\n",
       "247                0.000000    0.837349     0.020050                 0.449497\n",
       "248                0.412942    0.833581     0.007032                 0.383151\n",
       "249                0.465518    0.883312     0.011959                 0.430235\n",
       "250                0.000000    0.867470     0.023367                 0.489498\n",
       "\n",
       "[249 rows x 4 columns]"
      ]
     },
     "execution_count": 57,
     "metadata": {},
     "output_type": "execute_result"
    }
   ],
   "source": [
    "df"
   ]
  },
  {
   "cell_type": "markdown",
   "id": "8420f05a-eeaa-43c7-9584-4453cd8590f3",
   "metadata": {
    "tags": []
   },
   "source": [
    "______________________________________________________________\n",
    "# DATA ANALYSIS & AI/OPTIMIZATION PROJECT - Data Visualisation\n",
    "______________________________________________________________"
   ]
  },
  {
   "cell_type": "code",
   "execution_count": 59,
   "id": "e464e234-d0d2-404c-8c93-75af0fbdcaa9",
   "metadata": {
    "tags": []
   },
   "outputs": [],
   "source": [
    "# System imports\n",
    "import glob\n",
    "import os\n",
    "import matplotlib.pyplot as plt\n",
    "import numpy as np\n",
    "import datetime\n",
    "from time import process_time\n",
    "\n",
    "# Extra library imports\n",
    "from PIL import Image\n",
    "from scipy.optimize import minimize\n",
    "import scipy.ndimage as ndi\n",
    "import pandas as pd\n",
    "import numpy as np\n",
    "import seaborn as sns\n",
    "import plotly.graph_objects as go"
   ]
  },
  {
   "cell_type": "markdown",
   "id": "1d6132dc-6f56-44aa-ac30-39c9dc4dd1b3",
   "metadata": {
    "jp-MarkdownHeadingCollapsed": true,
    "tags": []
   },
   "source": [
    "## 1) Repartition of bugs and species"
   ]
  },
  {
   "cell_type": "markdown",
   "id": "8702ed85-816f-4b4f-9849-762dbe2897c7",
   "metadata": {},
   "source": [
    "### 1.1 Directory for the data on bugs and species"
   ]
  },
  {
   "cell_type": "code",
   "execution_count": 62,
   "id": "03d41bb5-09f0-4628-8f84-382454c41f9d",
   "metadata": {
    "tags": []
   },
   "outputs": [],
   "source": [
    "directory_path=\"./train/classif.xlsx\""
   ]
  },
  {
   "cell_type": "markdown",
   "id": "d01da63e-a3c1-4b5f-9802-e12e84f53a59",
   "metadata": {},
   "source": [
    "Now, let's create a dataframe for them"
   ]
  },
  {
   "cell_type": "code",
   "execution_count": 64,
   "id": "d1f537cb-ca81-4853-8581-2e4f4179a5a2",
   "metadata": {
    "tags": []
   },
   "outputs": [
    {
     "data": {
      "text/html": [
       "<div>\n",
       "<style scoped>\n",
       "    .dataframe tbody tr th:only-of-type {\n",
       "        vertical-align: middle;\n",
       "    }\n",
       "\n",
       "    .dataframe tbody tr th {\n",
       "        vertical-align: top;\n",
       "    }\n",
       "\n",
       "    .dataframe thead th {\n",
       "        text-align: right;\n",
       "    }\n",
       "</style>\n",
       "<table border=\"1\" class=\"dataframe\">\n",
       "  <thead>\n",
       "    <tr style=\"text-align: right;\">\n",
       "      <th></th>\n",
       "      <th>bug type</th>\n",
       "      <th>species</th>\n",
       "    </tr>\n",
       "    <tr>\n",
       "      <th>ID</th>\n",
       "      <th></th>\n",
       "      <th></th>\n",
       "    </tr>\n",
       "  </thead>\n",
       "  <tbody>\n",
       "    <tr>\n",
       "      <th>1</th>\n",
       "      <td>Bee</td>\n",
       "      <td>Apis mellifera</td>\n",
       "    </tr>\n",
       "    <tr>\n",
       "      <th>2</th>\n",
       "      <td>Bee</td>\n",
       "      <td>Apis mellifera</td>\n",
       "    </tr>\n",
       "    <tr>\n",
       "      <th>3</th>\n",
       "      <td>Bee</td>\n",
       "      <td>Apis mellifera</td>\n",
       "    </tr>\n",
       "    <tr>\n",
       "      <th>4</th>\n",
       "      <td>Bee</td>\n",
       "      <td>Apis mellifera</td>\n",
       "    </tr>\n",
       "    <tr>\n",
       "      <th>5</th>\n",
       "      <td>Bee</td>\n",
       "      <td>Apis mellifera</td>\n",
       "    </tr>\n",
       "    <tr>\n",
       "      <th>...</th>\n",
       "      <td>...</td>\n",
       "      <td>...</td>\n",
       "    </tr>\n",
       "    <tr>\n",
       "      <th>246</th>\n",
       "      <td>Bee</td>\n",
       "      <td>Apis mellifera</td>\n",
       "    </tr>\n",
       "    <tr>\n",
       "      <th>247</th>\n",
       "      <td>Bee</td>\n",
       "      <td>Apis mellifera</td>\n",
       "    </tr>\n",
       "    <tr>\n",
       "      <th>248</th>\n",
       "      <td>Bee</td>\n",
       "      <td>Apis mellifera</td>\n",
       "    </tr>\n",
       "    <tr>\n",
       "      <th>249</th>\n",
       "      <td>Bee</td>\n",
       "      <td>Apis mellifera</td>\n",
       "    </tr>\n",
       "    <tr>\n",
       "      <th>250</th>\n",
       "      <td>Bee</td>\n",
       "      <td>Apis mellifera</td>\n",
       "    </tr>\n",
       "  </tbody>\n",
       "</table>\n",
       "<p>250 rows × 2 columns</p>\n",
       "</div>"
      ],
      "text/plain": [
       "    bug type         species\n",
       "ID                          \n",
       "1        Bee  Apis mellifera\n",
       "2        Bee  Apis mellifera\n",
       "3        Bee  Apis mellifera\n",
       "4        Bee  Apis mellifera\n",
       "5        Bee  Apis mellifera\n",
       "..       ...             ...\n",
       "246      Bee  Apis mellifera\n",
       "247      Bee  Apis mellifera\n",
       "248      Bee  Apis mellifera\n",
       "249      Bee  Apis mellifera\n",
       "250      Bee  Apis mellifera\n",
       "\n",
       "[250 rows x 2 columns]"
      ]
     },
     "execution_count": 64,
     "metadata": {},
     "output_type": "execute_result"
    }
   ],
   "source": [
    "df1 = pd.read_excel(directory_path, index_col='ID')\n",
    "df1"
   ]
  },
  {
   "cell_type": "code",
   "execution_count": 65,
   "id": "f1371ac7-93fa-47bc-ae3c-1131d7578576",
   "metadata": {
    "tags": []
   },
   "outputs": [],
   "source": [
    "df1_without_154 = df1.drop(154)"
   ]
  },
  {
   "cell_type": "markdown",
   "id": "6fdcbe32-e907-4862-aab9-7852f5e762d2",
   "metadata": {
    "tags": []
   },
   "source": [
    "### 1.2 Repartition of bugs"
   ]
  },
  {
   "cell_type": "code",
   "execution_count": 67,
   "id": "daf504a9-9f17-4b88-afb9-7a601f4d56d3",
   "metadata": {
    "tags": []
   },
   "outputs": [
    {
     "data": {
      "image/png": "[encoded data removed]",
      "text/plain": [
       "<Figure size 1000x1000 with 1 Axes>"
      ]
     },
     "metadata": {},
     "output_type": "display_data"
    }
   ],
   "source": [
    "bug_type_counts = df1_without_154['bug type'].value_counts()\n",
    "plt.figure(figsize=(10, 10))\n",
    "plt.pie(bug_type_counts, labels=bug_type_counts.index, autopct='%1.1f%%')\n",
    "plt.title('Distribution of Bug Types')\n",
    "plt.show()"
   ]
  },
  {
   "cell_type": "markdown",
   "id": "9bc653cc-1421-4b5b-a940-01db5afa1edf",
   "metadata": {
    "tags": []
   },
   "source": [
    "### 1.3 Repartition of species between bugs"
   ]
  },
  {
   "cell_type": "code",
   "execution_count": 69,
   "id": "cf758454-a8c7-4e95-b119-5f5832e1345b",
   "metadata": {
    "tags": []
   },
   "outputs": [
    {
     "data": {
      "image/png": "[encoded data removed]",
      "text/plain": [
       "<Figure size 1200x800 with 1 Axes>"
      ]
     },
     "metadata": {},
     "output_type": "display_data"
    }
   ],
   "source": [
    "species_by_type = df1_without_154.groupby(['species', 'bug type']).size().unstack(fill_value=0)\n",
    "species_by_type['Dominant Bug Type'] = species_by_type.idxmax(axis=1)\n",
    "species_by_type.sort_values(by='Dominant Bug Type', inplace=True)\n",
    "species_by_type.drop(columns='Dominant Bug Type', inplace=True)\n",
    "\n",
    "species_by_type.plot(kind='bar', stacked=True, figsize=(12, 8))\n",
    "plt.title('Distribution of Species by their unique bug type')\n",
    "plt.xlabel('Species')\n",
    "plt.ylabel('Count')\n",
    "plt.xticks(rotation=90)  \n",
    "plt.show()"
   ]
  },
  {
   "cell_type": "markdown",
   "id": "575af786-f38e-4dc5-8797-87a9e3f99482",
   "metadata": {
    "tags": []
   },
   "source": [
    "## 2. PCA Projection"
   ]
  },
  {
   "cell_type": "markdown",
   "id": "b713409d-bf5a-4f6f-9fae-502ed9f5d0ad",
   "metadata": {
    "tags": []
   },
   "source": [
    "### 2.1 Creating the proper arrays"
   ]
  },
  {
   "cell_type": "markdown",
   "id": "4259c7cf-1b48-432f-87a1-8c7e9b62cf24",
   "metadata": {
    "tags": []
   },
   "source": [
    "1 list of species\n",
    "\n",
    "1 list of bugs"
   ]
  },
  {
   "cell_type": "code",
   "execution_count": 73,
   "id": "c09921c8-51f7-47b8-b4a8-b494eb26882a",
   "metadata": {
    "tags": []
   },
   "outputs": [],
   "source": [
    "species = np.unique(df1_without_154[\"species\"].values)\n",
    "bug_type = np.unique(df1_without_154[\"bug type\"].values)"
   ]
  },
  {
   "cell_type": "markdown",
   "id": "325e1922-2cbc-4fb6-81cc-df17414a5006",
   "metadata": {
    "tags": []
   },
   "source": [
    "### 2.2 Centering and reducing the data from Part 1"
   ]
  },
  {
   "cell_type": "code",
   "execution_count": 75,
   "id": "305df96d-8cd4-47a0-9bcb-ded0397276eb",
   "metadata": {
    "tags": []
   },
   "outputs": [
    {
     "ename": "NameError",
     "evalue": "name 'df2' is not defined",
     "output_type": "error",
     "traceback": [
      "\u001b[1;31m---------------------------------------------------------------------------\u001b[0m",
      "\u001b[1;31mNameError\u001b[0m                                 Traceback (most recent call last)",
      "Cell \u001b[1;32mIn[75], line 1\u001b[0m\n\u001b[1;32m----> 1\u001b[0m feat_names \u001b[38;5;241m=\u001b[39m df2\u001b[38;5;241m.\u001b[39mcolumns\u001b[38;5;241m.\u001b[39mtolist()\n\u001b[0;32m      2\u001b[0m scaler \u001b[38;5;241m=\u001b[39m StandardScaler()\n\u001b[0;32m      3\u001b[0m dfn \u001b[38;5;241m=\u001b[39m df2\u001b[38;5;241m.\u001b[39mcopy()\n",
      "\u001b[1;31mNameError\u001b[0m: name 'df2' is not defined"
     ]
    }
   ],
   "source": [
    "feat_names = df2.columns.tolist()\n",
    "scaler = StandardScaler()\n",
    "dfn = df2.copy()\n",
    "dfn[feat_names] = scaler.fit_transform(dfn[feat_names])\n",
    "dfn"
   ]
  },
  {
   "cell_type": "markdown",
   "id": "4e95df7e-60eb-4c52-9fd3-012cd00e4537",
   "metadata": {},
   "source": [
    "### 2.3 Creating 1 larger dataframe df2"
   ]
  },
  {
   "cell_type": "code",
   "execution_count": null,
   "id": "d9c2e484-c9c7-4b53-b470-650fdcd56525",
   "metadata": {
    "tags": []
   },
   "outputs": [],
   "source": [
    "df2 = pd.concat([df2, df1_without_154], axis=1)\n",
    "df2"
   ]
  },
  {
   "cell_type": "markdown",
   "id": "5b1de8d2-4226-4d71-9ab7-740ed9096442",
   "metadata": {
    "tags": []
   },
   "source": [
    "### 2.4 PCA Algorithms"
   ]
  },
  {
   "cell_type": "code",
   "execution_count": null,
   "id": "f2937ad4-3c6b-47d6-be43-8dcd298e3e22",
   "metadata": {
    "tags": []
   },
   "outputs": [],
   "source": [
    "pca = PCA(n_components=3)\n",
    "df_pca = pca.fit_transform(dfn[feat_names])"
   ]
  },
  {
   "cell_type": "code",
   "execution_count": null,
   "id": "ac6b0908-b081-454d-8c80-54d77b9bf3f6",
   "metadata": {
    "tags": []
   },
   "outputs": [],
   "source": [
    "pc1 = round(pca.explained_variance_ratio_[0] * 100,2)\n",
    "pc2 = round(pca.explained_variance_ratio_[1] * 100,2)\n",
    "pc3 = round(pca.explained_variance_ratio_[2] * 100,2)\n",
    "\n",
    "[pc1 , pc2, pc3]"
   ]
  },
  {
   "cell_type": "code",
   "execution_count": null,
   "id": "b92d00d9-cf7a-42a1-9d87-667f0786a653",
   "metadata": {
    "tags": []
   },
   "outputs": [],
   "source": [
    "fig, ax = plt.subplots();\n",
    "for bugs in bug_type:\n",
    "    ax.scatter(df_pca[df2[\"bug type\"]==bugs, 0], df_pca[df2[\"bug type\"]==bugs, 1],label=bugs);\n",
    "\n",
    "ax.legend();\n",
    "ax.set_xlabel(\"PC1 ({0}% of explained variance) : Symmetry Indexes\".format(pc1, fontsize=12));\n",
    "ax.set_ylabel(\"PC2 ({0}% of explained variance) : Ratio\".format(pc2, fontsize=12));\n",
    "ax.set_title('PCA Projection of Symmetry Index and Ratio grouped by bug types', fontsize=12);"
   ]
  },
  {
   "cell_type": "code",
   "execution_count": null,
   "id": "53e2652f-1710-4006-8041-c28fbb162ee2",
   "metadata": {
    "tags": []
   },
   "outputs": [],
   "source": [
    "fig, ax = plt.subplots();\n",
    "for bugs in bug_type:\n",
    "    ax.scatter(df_pca[df2[\"bug type\"]==bugs, 1], df_pca[df2[\"bug type\"]==bugs, 2],label=bugs);\n",
    "\n",
    "ax.legend();\n",
    "ax.set_xlabel(\"PC2 ({0}% of explained variance) : Ratio\".format(pc2, fontsize=12));\n",
    "ax.set_ylabel(\"PC3 ({0}% of explained variance) : Pixel Ratio\".format(pc3, fontsize=12));\n",
    "ax.set_title('PCA Projection of Ratio and Pixel Ratio grouped by bug types', fontsize=12);"
   ]
  },
  {
   "cell_type": "code",
   "execution_count": null,
   "id": "24129ad8-5484-4614-8cbe-7b1307f8a070",
   "metadata": {
    "tags": []
   },
   "outputs": [],
   "source": [
    "fig, ax = plt.subplots();\n",
    "for bugs in bug_type:\n",
    "    ax.scatter(df_pca[df2[\"bug type\"]==bugs, 0], df_pca[df2[\"bug type\"]==bugs, 2],label=bugs);\n",
    "\n",
    "ax.legend();\n",
    "ax.set_xlabel(\"PC1 ({0}% of explained variance) : Symmetry Indexes\".format(pc1, fontsize=12));\n",
    "ax.set_ylabel(\"PC3 ({0}% of explained variance) : Pixel Ratio\".format(pc3, fontsize=12));\n",
    "ax.set_title('PCA Projection of Symmetry Index and Pixel Ratio grouped by bug types', fontsize=12);"
   ]
  }
 ],
 "metadata": {
  "kernelspec": {
   "display_name": "Python 3 (ipykernel)",
   "language": "python",
   "name": "python3"
  },
  "language_info": {
   "codemirror_mode": {
    "name": "ipython",
    "version": 3
   },
   "file_extension": ".py",
   "mimetype": "text/x-python",
   "name": "python",
   "nbconvert_exporter": "python",
   "pygments_lexer": "ipython3",
   "version": "3.11.5"
  }
 },
 "nbformat": 4,
 "nbformat_minor": 5
}
